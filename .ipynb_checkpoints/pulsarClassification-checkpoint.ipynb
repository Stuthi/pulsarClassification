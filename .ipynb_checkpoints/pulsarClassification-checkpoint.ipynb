{
 "cells": [
  {
   "cell_type": "code",
   "execution_count": 1,
   "metadata": {
    "collapsed": true
   },
   "outputs": [],
   "source": [
    "import pandas as pd\n",
    "import numpy as np\n",
    "import matplotlib.pyplot as plt \n",
    "%matplotlib inline"
   ]
  },
  {
   "cell_type": "code",
   "execution_count": 15,
   "metadata": {},
   "outputs": [],
   "source": [
    "df = pd.read_csv('../data/HTRU_2.csv',index_col=None,names=['MeanIP','StdIP','KurtosisIP','SkewIP','MeanDM','StdDMR','KurtosisDMR','SkewDMR','Pulsar'])"
   ]
  },
  {
   "cell_type": "code",
   "execution_count": 16,
   "metadata": {},
   "outputs": [
    {
     "data": {
      "text/html": [
       "<div>\n",
       "<style>\n",
       "    .dataframe thead tr:only-child th {\n",
       "        text-align: right;\n",
       "    }\n",
       "\n",
       "    .dataframe thead th {\n",
       "        text-align: left;\n",
       "    }\n",
       "\n",
       "    .dataframe tbody tr th {\n",
       "        vertical-align: top;\n",
       "    }\n",
       "</style>\n",
       "<table border=\"1\" class=\"dataframe\">\n",
       "  <thead>\n",
       "    <tr style=\"text-align: right;\">\n",
       "      <th></th>\n",
       "      <th>MeanIP</th>\n",
       "      <th>StdIP</th>\n",
       "      <th>KurtosisIP</th>\n",
       "      <th>SkewIP</th>\n",
       "      <th>MeanDM</th>\n",
       "      <th>StdDMR</th>\n",
       "      <th>KurtosisDMR</th>\n",
       "      <th>SkewDMR</th>\n",
       "      <th>Pulsar</th>\n",
       "    </tr>\n",
       "  </thead>\n",
       "  <tbody>\n",
       "    <tr>\n",
       "      <th>0</th>\n",
       "      <td>140.562500</td>\n",
       "      <td>55.683782</td>\n",
       "      <td>-0.234571</td>\n",
       "      <td>-0.699648</td>\n",
       "      <td>3.199833</td>\n",
       "      <td>19.110426</td>\n",
       "      <td>7.975532</td>\n",
       "      <td>74.242225</td>\n",
       "      <td>0</td>\n",
       "    </tr>\n",
       "    <tr>\n",
       "      <th>1</th>\n",
       "      <td>102.507812</td>\n",
       "      <td>58.882430</td>\n",
       "      <td>0.465318</td>\n",
       "      <td>-0.515088</td>\n",
       "      <td>1.677258</td>\n",
       "      <td>14.860146</td>\n",
       "      <td>10.576487</td>\n",
       "      <td>127.393580</td>\n",
       "      <td>0</td>\n",
       "    </tr>\n",
       "    <tr>\n",
       "      <th>2</th>\n",
       "      <td>103.015625</td>\n",
       "      <td>39.341649</td>\n",
       "      <td>0.323328</td>\n",
       "      <td>1.051164</td>\n",
       "      <td>3.121237</td>\n",
       "      <td>21.744669</td>\n",
       "      <td>7.735822</td>\n",
       "      <td>63.171909</td>\n",
       "      <td>0</td>\n",
       "    </tr>\n",
       "    <tr>\n",
       "      <th>3</th>\n",
       "      <td>136.750000</td>\n",
       "      <td>57.178449</td>\n",
       "      <td>-0.068415</td>\n",
       "      <td>-0.636238</td>\n",
       "      <td>3.642977</td>\n",
       "      <td>20.959280</td>\n",
       "      <td>6.896499</td>\n",
       "      <td>53.593661</td>\n",
       "      <td>0</td>\n",
       "    </tr>\n",
       "    <tr>\n",
       "      <th>4</th>\n",
       "      <td>88.726562</td>\n",
       "      <td>40.672225</td>\n",
       "      <td>0.600866</td>\n",
       "      <td>1.123492</td>\n",
       "      <td>1.178930</td>\n",
       "      <td>11.468720</td>\n",
       "      <td>14.269573</td>\n",
       "      <td>252.567306</td>\n",
       "      <td>0</td>\n",
       "    </tr>\n",
       "  </tbody>\n",
       "</table>\n",
       "</div>"
      ],
      "text/plain": [
       "       MeanIP      StdIP  KurtosisIP    SkewIP    MeanDM     StdDMR  \\\n",
       "0  140.562500  55.683782   -0.234571 -0.699648  3.199833  19.110426   \n",
       "1  102.507812  58.882430    0.465318 -0.515088  1.677258  14.860146   \n",
       "2  103.015625  39.341649    0.323328  1.051164  3.121237  21.744669   \n",
       "3  136.750000  57.178449   -0.068415 -0.636238  3.642977  20.959280   \n",
       "4   88.726562  40.672225    0.600866  1.123492  1.178930  11.468720   \n",
       "\n",
       "   KurtosisDMR     SkewDMR  Pulsar  \n",
       "0     7.975532   74.242225       0  \n",
       "1    10.576487  127.393580       0  \n",
       "2     7.735822   63.171909       0  \n",
       "3     6.896499   53.593661       0  \n",
       "4    14.269573  252.567306       0  "
      ]
     },
     "execution_count": 16,
     "metadata": {},
     "output_type": "execute_result"
    }
   ],
   "source": [
    "df.head()"
   ]
  },
  {
   "cell_type": "code",
   "execution_count": 26,
   "metadata": {},
   "outputs": [
    {
     "data": {
      "text/html": [
       "<div>\n",
       "<style>\n",
       "    .dataframe thead tr:only-child th {\n",
       "        text-align: right;\n",
       "    }\n",
       "\n",
       "    .dataframe thead th {\n",
       "        text-align: left;\n",
       "    }\n",
       "\n",
       "    .dataframe tbody tr th {\n",
       "        vertical-align: top;\n",
       "    }\n",
       "</style>\n",
       "<table border=\"1\" class=\"dataframe\">\n",
       "  <thead>\n",
       "    <tr style=\"text-align: right;\">\n",
       "      <th></th>\n",
       "      <th>MeanIP</th>\n",
       "      <th>StdIP</th>\n",
       "      <th>KurtosisIP</th>\n",
       "      <th>SkewIP</th>\n",
       "      <th>MeanDM</th>\n",
       "      <th>StdDMR</th>\n",
       "      <th>KurtosisDMR</th>\n",
       "      <th>SkewDMR</th>\n",
       "      <th>Pulsar</th>\n",
       "    </tr>\n",
       "  </thead>\n",
       "  <tbody>\n",
       "    <tr>\n",
       "      <th>count</th>\n",
       "      <td>17898.000000</td>\n",
       "      <td>17898.000000</td>\n",
       "      <td>17898.000000</td>\n",
       "      <td>17898.000000</td>\n",
       "      <td>17898.000000</td>\n",
       "      <td>17898.000000</td>\n",
       "      <td>17898.000000</td>\n",
       "      <td>17898.000000</td>\n",
       "      <td>17898.000000</td>\n",
       "    </tr>\n",
       "    <tr>\n",
       "      <th>mean</th>\n",
       "      <td>111.079968</td>\n",
       "      <td>46.549532</td>\n",
       "      <td>0.477857</td>\n",
       "      <td>1.770279</td>\n",
       "      <td>12.614400</td>\n",
       "      <td>26.326515</td>\n",
       "      <td>8.303556</td>\n",
       "      <td>104.857709</td>\n",
       "      <td>0.091574</td>\n",
       "    </tr>\n",
       "    <tr>\n",
       "      <th>std</th>\n",
       "      <td>25.652935</td>\n",
       "      <td>6.843189</td>\n",
       "      <td>1.064040</td>\n",
       "      <td>6.167913</td>\n",
       "      <td>29.472897</td>\n",
       "      <td>19.470572</td>\n",
       "      <td>4.506092</td>\n",
       "      <td>106.514540</td>\n",
       "      <td>0.288432</td>\n",
       "    </tr>\n",
       "    <tr>\n",
       "      <th>min</th>\n",
       "      <td>5.812500</td>\n",
       "      <td>24.772042</td>\n",
       "      <td>-1.876011</td>\n",
       "      <td>-1.791886</td>\n",
       "      <td>0.213211</td>\n",
       "      <td>7.370432</td>\n",
       "      <td>-3.139270</td>\n",
       "      <td>-1.976976</td>\n",
       "      <td>0.000000</td>\n",
       "    </tr>\n",
       "    <tr>\n",
       "      <th>25%</th>\n",
       "      <td>100.929688</td>\n",
       "      <td>42.376018</td>\n",
       "      <td>0.027098</td>\n",
       "      <td>-0.188572</td>\n",
       "      <td>1.923077</td>\n",
       "      <td>14.437332</td>\n",
       "      <td>5.781506</td>\n",
       "      <td>34.960504</td>\n",
       "      <td>0.000000</td>\n",
       "    </tr>\n",
       "    <tr>\n",
       "      <th>50%</th>\n",
       "      <td>115.078125</td>\n",
       "      <td>46.947479</td>\n",
       "      <td>0.223240</td>\n",
       "      <td>0.198710</td>\n",
       "      <td>2.801839</td>\n",
       "      <td>18.461316</td>\n",
       "      <td>8.433515</td>\n",
       "      <td>83.064556</td>\n",
       "      <td>0.000000</td>\n",
       "    </tr>\n",
       "    <tr>\n",
       "      <th>75%</th>\n",
       "      <td>127.085938</td>\n",
       "      <td>51.023202</td>\n",
       "      <td>0.473325</td>\n",
       "      <td>0.927783</td>\n",
       "      <td>5.464256</td>\n",
       "      <td>28.428104</td>\n",
       "      <td>10.702959</td>\n",
       "      <td>139.309331</td>\n",
       "      <td>0.000000</td>\n",
       "    </tr>\n",
       "    <tr>\n",
       "      <th>max</th>\n",
       "      <td>192.617188</td>\n",
       "      <td>98.778911</td>\n",
       "      <td>8.069522</td>\n",
       "      <td>68.101622</td>\n",
       "      <td>223.392140</td>\n",
       "      <td>110.642211</td>\n",
       "      <td>34.539844</td>\n",
       "      <td>1191.000837</td>\n",
       "      <td>1.000000</td>\n",
       "    </tr>\n",
       "  </tbody>\n",
       "</table>\n",
       "</div>"
      ],
      "text/plain": [
       "             MeanIP         StdIP    KurtosisIP        SkewIP        MeanDM  \\\n",
       "count  17898.000000  17898.000000  17898.000000  17898.000000  17898.000000   \n",
       "mean     111.079968     46.549532      0.477857      1.770279     12.614400   \n",
       "std       25.652935      6.843189      1.064040      6.167913     29.472897   \n",
       "min        5.812500     24.772042     -1.876011     -1.791886      0.213211   \n",
       "25%      100.929688     42.376018      0.027098     -0.188572      1.923077   \n",
       "50%      115.078125     46.947479      0.223240      0.198710      2.801839   \n",
       "75%      127.085938     51.023202      0.473325      0.927783      5.464256   \n",
       "max      192.617188     98.778911      8.069522     68.101622    223.392140   \n",
       "\n",
       "             StdDMR   KurtosisDMR       SkewDMR        Pulsar  \n",
       "count  17898.000000  17898.000000  17898.000000  17898.000000  \n",
       "mean      26.326515      8.303556    104.857709      0.091574  \n",
       "std       19.470572      4.506092    106.514540      0.288432  \n",
       "min        7.370432     -3.139270     -1.976976      0.000000  \n",
       "25%       14.437332      5.781506     34.960504      0.000000  \n",
       "50%       18.461316      8.433515     83.064556      0.000000  \n",
       "75%       28.428104     10.702959    139.309331      0.000000  \n",
       "max      110.642211     34.539844   1191.000837      1.000000  "
      ]
     },
     "execution_count": 26,
     "metadata": {},
     "output_type": "execute_result"
    }
   ],
   "source": [
    "df.describe()"
   ]
  },
  {
   "cell_type": "code",
   "execution_count": 17,
   "metadata": {},
   "outputs": [
    {
     "data": {
      "text/plain": [
       "0    16259\n",
       "1     1639\n",
       "Name: Pulsar, dtype: int64"
      ]
     },
     "execution_count": 17,
     "metadata": {},
     "output_type": "execute_result"
    }
   ],
   "source": [
    "df['Pulsar'].value_counts()"
   ]
  },
  {
   "cell_type": "code",
   "execution_count": 18,
   "metadata": {
    "collapsed": true
   },
   "outputs": [],
   "source": [
    "event_rate = 1639/df.shape[0]"
   ]
  },
  {
   "cell_type": "code",
   "execution_count": 20,
   "metadata": {},
   "outputs": [
    {
     "data": {
      "text/plain": [
       "9.157447759526203"
      ]
     },
     "execution_count": 20,
     "metadata": {},
     "output_type": "execute_result"
    }
   ],
   "source": [
    "event_rate*100"
   ]
  },
  {
   "cell_type": "code",
   "execution_count": 21,
   "metadata": {
    "collapsed": true
   },
   "outputs": [],
   "source": [
    "from sklearn.preprocessing import StandardScaler"
   ]
  },
  {
   "cell_type": "code",
   "execution_count": 22,
   "metadata": {
    "collapsed": true
   },
   "outputs": [],
   "source": [
    "sc = StandardScaler()"
   ]
  },
  {
   "cell_type": "code",
   "execution_count": 31,
   "metadata": {},
   "outputs": [],
   "source": [
    "sdf = pd.DataFrame(sc.fit_transform(df.drop('Pulsar',axis = 1)))"
   ]
  },
  {
   "cell_type": "code",
   "execution_count": 28,
   "metadata": {},
   "outputs": [
    {
     "data": {
      "text/html": [
       "<div>\n",
       "<style>\n",
       "    .dataframe thead tr:only-child th {\n",
       "        text-align: right;\n",
       "    }\n",
       "\n",
       "    .dataframe thead th {\n",
       "        text-align: left;\n",
       "    }\n",
       "\n",
       "    .dataframe tbody tr th {\n",
       "        vertical-align: top;\n",
       "    }\n",
       "</style>\n",
       "<table border=\"1\" class=\"dataframe\">\n",
       "  <thead>\n",
       "    <tr style=\"text-align: right;\">\n",
       "      <th></th>\n",
       "      <th>0</th>\n",
       "      <th>1</th>\n",
       "      <th>2</th>\n",
       "      <th>3</th>\n",
       "      <th>4</th>\n",
       "      <th>5</th>\n",
       "      <th>6</th>\n",
       "      <th>7</th>\n",
       "      <th>8</th>\n",
       "    </tr>\n",
       "  </thead>\n",
       "  <tbody>\n",
       "    <tr>\n",
       "      <th>0</th>\n",
       "      <td>1.149317</td>\n",
       "      <td>1.334832</td>\n",
       "      <td>-0.669570</td>\n",
       "      <td>-0.400459</td>\n",
       "      <td>-0.319440</td>\n",
       "      <td>-0.370625</td>\n",
       "      <td>-0.072798</td>\n",
       "      <td>-0.287438</td>\n",
       "      <td>-0.317499</td>\n",
       "    </tr>\n",
       "    <tr>\n",
       "      <th>1</th>\n",
       "      <td>-0.334168</td>\n",
       "      <td>1.802265</td>\n",
       "      <td>-0.011785</td>\n",
       "      <td>-0.370535</td>\n",
       "      <td>-0.371102</td>\n",
       "      <td>-0.588924</td>\n",
       "      <td>0.504427</td>\n",
       "      <td>0.211581</td>\n",
       "      <td>-0.317499</td>\n",
       "    </tr>\n",
       "    <tr>\n",
       "      <th>2</th>\n",
       "      <td>-0.314372</td>\n",
       "      <td>-1.053322</td>\n",
       "      <td>-0.145233</td>\n",
       "      <td>-0.116593</td>\n",
       "      <td>-0.322107</td>\n",
       "      <td>-0.235328</td>\n",
       "      <td>-0.125996</td>\n",
       "      <td>-0.391373</td>\n",
       "      <td>-0.317499</td>\n",
       "    </tr>\n",
       "    <tr>\n",
       "      <th>3</th>\n",
       "      <td>1.000694</td>\n",
       "      <td>1.553254</td>\n",
       "      <td>-0.513409</td>\n",
       "      <td>-0.390178</td>\n",
       "      <td>-0.304404</td>\n",
       "      <td>-0.275666</td>\n",
       "      <td>-0.312265</td>\n",
       "      <td>-0.481300</td>\n",
       "      <td>-0.317499</td>\n",
       "    </tr>\n",
       "    <tr>\n",
       "      <th>4</th>\n",
       "      <td>-0.871402</td>\n",
       "      <td>-0.858879</td>\n",
       "      <td>0.115609</td>\n",
       "      <td>-0.104866</td>\n",
       "      <td>-0.388010</td>\n",
       "      <td>-0.763111</td>\n",
       "      <td>1.324026</td>\n",
       "      <td>1.386794</td>\n",
       "      <td>-0.317499</td>\n",
       "    </tr>\n",
       "  </tbody>\n",
       "</table>\n",
       "</div>"
      ],
      "text/plain": [
       "          0         1         2         3         4         5         6  \\\n",
       "0  1.149317  1.334832 -0.669570 -0.400459 -0.319440 -0.370625 -0.072798   \n",
       "1 -0.334168  1.802265 -0.011785 -0.370535 -0.371102 -0.588924  0.504427   \n",
       "2 -0.314372 -1.053322 -0.145233 -0.116593 -0.322107 -0.235328 -0.125996   \n",
       "3  1.000694  1.553254 -0.513409 -0.390178 -0.304404 -0.275666 -0.312265   \n",
       "4 -0.871402 -0.858879  0.115609 -0.104866 -0.388010 -0.763111  1.324026   \n",
       "\n",
       "          7         8  \n",
       "0 -0.287438 -0.317499  \n",
       "1  0.211581 -0.317499  \n",
       "2 -0.391373 -0.317499  \n",
       "3 -0.481300 -0.317499  \n",
       "4  1.386794 -0.317499  "
      ]
     },
     "execution_count": 28,
     "metadata": {},
     "output_type": "execute_result"
    }
   ],
   "source": [
    "sdf.head()"
   ]
  },
  {
   "cell_type": "code",
   "execution_count": 32,
   "metadata": {
    "collapsed": true
   },
   "outputs": [],
   "source": [
    "sdf['Pulsar'] = df['Pulsar']"
   ]
  },
  {
   "cell_type": "code",
   "execution_count": 33,
   "metadata": {},
   "outputs": [
    {
     "data": {
      "text/html": [
       "<div>\n",
       "<style>\n",
       "    .dataframe thead tr:only-child th {\n",
       "        text-align: right;\n",
       "    }\n",
       "\n",
       "    .dataframe thead th {\n",
       "        text-align: left;\n",
       "    }\n",
       "\n",
       "    .dataframe tbody tr th {\n",
       "        vertical-align: top;\n",
       "    }\n",
       "</style>\n",
       "<table border=\"1\" class=\"dataframe\">\n",
       "  <thead>\n",
       "    <tr style=\"text-align: right;\">\n",
       "      <th></th>\n",
       "      <th>0</th>\n",
       "      <th>1</th>\n",
       "      <th>2</th>\n",
       "      <th>3</th>\n",
       "      <th>4</th>\n",
       "      <th>5</th>\n",
       "      <th>6</th>\n",
       "      <th>7</th>\n",
       "      <th>Pulsar</th>\n",
       "    </tr>\n",
       "  </thead>\n",
       "  <tbody>\n",
       "    <tr>\n",
       "      <th>0</th>\n",
       "      <td>1.149317</td>\n",
       "      <td>1.334832</td>\n",
       "      <td>-0.669570</td>\n",
       "      <td>-0.400459</td>\n",
       "      <td>-0.319440</td>\n",
       "      <td>-0.370625</td>\n",
       "      <td>-0.072798</td>\n",
       "      <td>-0.287438</td>\n",
       "      <td>0</td>\n",
       "    </tr>\n",
       "    <tr>\n",
       "      <th>1</th>\n",
       "      <td>-0.334168</td>\n",
       "      <td>1.802265</td>\n",
       "      <td>-0.011785</td>\n",
       "      <td>-0.370535</td>\n",
       "      <td>-0.371102</td>\n",
       "      <td>-0.588924</td>\n",
       "      <td>0.504427</td>\n",
       "      <td>0.211581</td>\n",
       "      <td>0</td>\n",
       "    </tr>\n",
       "    <tr>\n",
       "      <th>2</th>\n",
       "      <td>-0.314372</td>\n",
       "      <td>-1.053322</td>\n",
       "      <td>-0.145233</td>\n",
       "      <td>-0.116593</td>\n",
       "      <td>-0.322107</td>\n",
       "      <td>-0.235328</td>\n",
       "      <td>-0.125996</td>\n",
       "      <td>-0.391373</td>\n",
       "      <td>0</td>\n",
       "    </tr>\n",
       "    <tr>\n",
       "      <th>3</th>\n",
       "      <td>1.000694</td>\n",
       "      <td>1.553254</td>\n",
       "      <td>-0.513409</td>\n",
       "      <td>-0.390178</td>\n",
       "      <td>-0.304404</td>\n",
       "      <td>-0.275666</td>\n",
       "      <td>-0.312265</td>\n",
       "      <td>-0.481300</td>\n",
       "      <td>0</td>\n",
       "    </tr>\n",
       "    <tr>\n",
       "      <th>4</th>\n",
       "      <td>-0.871402</td>\n",
       "      <td>-0.858879</td>\n",
       "      <td>0.115609</td>\n",
       "      <td>-0.104866</td>\n",
       "      <td>-0.388010</td>\n",
       "      <td>-0.763111</td>\n",
       "      <td>1.324026</td>\n",
       "      <td>1.386794</td>\n",
       "      <td>0</td>\n",
       "    </tr>\n",
       "  </tbody>\n",
       "</table>\n",
       "</div>"
      ],
      "text/plain": [
       "          0         1         2         3         4         5         6  \\\n",
       "0  1.149317  1.334832 -0.669570 -0.400459 -0.319440 -0.370625 -0.072798   \n",
       "1 -0.334168  1.802265 -0.011785 -0.370535 -0.371102 -0.588924  0.504427   \n",
       "2 -0.314372 -1.053322 -0.145233 -0.116593 -0.322107 -0.235328 -0.125996   \n",
       "3  1.000694  1.553254 -0.513409 -0.390178 -0.304404 -0.275666 -0.312265   \n",
       "4 -0.871402 -0.858879  0.115609 -0.104866 -0.388010 -0.763111  1.324026   \n",
       "\n",
       "          7  Pulsar  \n",
       "0 -0.287438       0  \n",
       "1  0.211581       0  \n",
       "2 -0.391373       0  \n",
       "3 -0.481300       0  \n",
       "4  1.386794       0  "
      ]
     },
     "execution_count": 33,
     "metadata": {},
     "output_type": "execute_result"
    }
   ],
   "source": [
    "sdf.head()"
   ]
  },
  {
   "cell_type": "code",
   "execution_count": 34,
   "metadata": {
    "collapsed": true
   },
   "outputs": [],
   "source": [
    "from sklearn.model_selection import train_test_split"
   ]
  },
  {
   "cell_type": "code",
   "execution_count": 35,
   "metadata": {
    "collapsed": true
   },
   "outputs": [],
   "source": [
    "x_train,x_test,y_train,y_test = train_test_split(sdf.drop('Pulsar',axis=1),sdf['Pulsar'])"
   ]
  },
  {
   "cell_type": "code",
   "execution_count": 38,
   "metadata": {},
   "outputs": [
    {
     "data": {
      "text/plain": [
       "(13423, 8)"
      ]
     },
     "execution_count": 38,
     "metadata": {},
     "output_type": "execute_result"
    }
   ],
   "source": [
    "x_train.head()\n",
    "x_train.shape"
   ]
  },
  {
   "cell_type": "code",
   "execution_count": 39,
   "metadata": {},
   "outputs": [
    {
     "data": {
      "text/plain": [
       "(13423,)"
      ]
     },
     "execution_count": 39,
     "metadata": {},
     "output_type": "execute_result"
    }
   ],
   "source": [
    "y_train.head()\n",
    "y_train.shape"
   ]
  },
  {
   "cell_type": "code",
   "execution_count": 40,
   "metadata": {},
   "outputs": [
    {
     "data": {
      "text/plain": [
       "pandas.core.series.Series"
      ]
     },
     "execution_count": 40,
     "metadata": {},
     "output_type": "execute_result"
    }
   ],
   "source": [
    "type(y_train)"
   ]
  },
  {
   "cell_type": "code",
   "execution_count": 41,
   "metadata": {},
   "outputs": [
    {
     "data": {
      "text/plain": [
       "0    12217\n",
       "1     1206\n",
       "Name: Pulsar, dtype: int64"
      ]
     },
     "execution_count": 41,
     "metadata": {},
     "output_type": "execute_result"
    }
   ],
   "source": [
    "y_train.value_counts()\n"
   ]
  },
  {
   "cell_type": "code",
   "execution_count": 53,
   "metadata": {
    "collapsed": true
   },
   "outputs": [],
   "source": [
    "#Support Vector Classification"
   ]
  },
  {
   "cell_type": "code",
   "execution_count": 42,
   "metadata": {
    "collapsed": true
   },
   "outputs": [],
   "source": [
    "from sklearn.svm import SVC"
   ]
  },
  {
   "cell_type": "code",
   "execution_count": 43,
   "metadata": {
    "collapsed": true
   },
   "outputs": [],
   "source": [
    "c1 = SVC()"
   ]
  },
  {
   "cell_type": "code",
   "execution_count": 44,
   "metadata": {},
   "outputs": [
    {
     "data": {
      "text/plain": [
       "SVC(C=1.0, cache_size=200, class_weight=None, coef0=0.0,\n",
       "  decision_function_shape='ovr', degree=3, gamma='auto', kernel='rbf',\n",
       "  max_iter=-1, probability=False, random_state=None, shrinking=True,\n",
       "  tol=0.001, verbose=False)"
      ]
     },
     "execution_count": 44,
     "metadata": {},
     "output_type": "execute_result"
    }
   ],
   "source": [
    "c1.fit(x_train,y_train)"
   ]
  },
  {
   "cell_type": "code",
   "execution_count": 45,
   "metadata": {
    "collapsed": true
   },
   "outputs": [],
   "source": [
    "c1_pred = c1.predict(x_test)"
   ]
  },
  {
   "cell_type": "code",
   "execution_count": 46,
   "metadata": {
    "collapsed": true
   },
   "outputs": [],
   "source": [
    "from sklearn.metrics import classification_report,accuracy_score,confusion_matrix"
   ]
  },
  {
   "cell_type": "code",
   "execution_count": 48,
   "metadata": {},
   "outputs": [
    {
     "name": "stdout",
     "output_type": "stream",
     "text": [
      "             precision    recall  f1-score   support\n",
      "\n",
      "          0       0.98      0.99      0.99      4042\n",
      "          1       0.93      0.84      0.88       433\n",
      "\n",
      "avg / total       0.98      0.98      0.98      4475\n",
      "\n"
     ]
    }
   ],
   "source": [
    "print(classification_report(y_test,c1_pred))"
   ]
  },
  {
   "cell_type": "code",
   "execution_count": 49,
   "metadata": {},
   "outputs": [
    {
     "name": "stdout",
     "output_type": "stream",
     "text": [
      "0.978100558659\n"
     ]
    }
   ],
   "source": [
    "print(accuracy_score(y_test,c1_pred))"
   ]
  },
  {
   "cell_type": "code",
   "execution_count": 50,
   "metadata": {},
   "outputs": [
    {
     "name": "stdout",
     "output_type": "stream",
     "text": [
      "[[4013   29]\n",
      " [  69  364]]\n"
     ]
    }
   ],
   "source": [
    "print(confusion_matrix(y_test,c1_pred))"
   ]
  },
  {
   "cell_type": "code",
   "execution_count": 51,
   "metadata": {
    "collapsed": true
   },
   "outputs": [],
   "source": [
    "tn, fp, fn, tp = confusion_matrix(y_test,c1_pred).ravel()"
   ]
  },
  {
   "cell_type": "code",
   "execution_count": 52,
   "metadata": {},
   "outputs": [
    {
     "name": "stdout",
     "output_type": "stream",
     "text": [
      "4013 29 69 364\n"
     ]
    }
   ],
   "source": [
    "print(tn,fp,fn,tp)"
   ]
  },
  {
   "cell_type": "code",
   "execution_count": 54,
   "metadata": {
    "collapsed": true
   },
   "outputs": [],
   "source": [
    "# Grid Search for optimal param values"
   ]
  },
  {
   "cell_type": "code",
   "execution_count": 55,
   "metadata": {
    "collapsed": true
   },
   "outputs": [],
   "source": [
    "from sklearn.model_selection import GridSearchCV"
   ]
  },
  {
   "cell_type": "code",
   "execution_count": 56,
   "metadata": {
    "collapsed": true
   },
   "outputs": [],
   "source": [
    "#Gamma is inverse of radius of influence, selects how far the effect of a single training example reaches "
   ]
  },
  {
   "cell_type": "code",
   "execution_count": 57,
   "metadata": {
    "collapsed": true
   },
   "outputs": [],
   "source": [
    "#C trades off misclassification of training examples against simplicity of the decision surface"
   ]
  },
  {
   "cell_type": "code",
   "execution_count": 58,
   "metadata": {
    "collapsed": true
   },
   "outputs": [],
   "source": [
    "param_grid = {'C': [0.1,1, 10, 100], 'gamma': [1,0.1,0.01,0.001],'kernel':['linear','poly','rbf'] } "
   ]
  },
  {
   "cell_type": "code",
   "execution_count": 59,
   "metadata": {
    "collapsed": true
   },
   "outputs": [],
   "source": [
    "grid = GridSearchCV(SVC(),param_grid=param_grid,refit=True,verbose = 2)"
   ]
  },
  {
   "cell_type": "code",
   "execution_count": 60,
   "metadata": {},
   "outputs": [
    {
     "name": "stdout",
     "output_type": "stream",
     "text": [
      "Fitting 3 folds for each of 48 candidates, totalling 144 fits\n",
      "[CV] C=0.1, gamma=1, kernel=linear ...................................\n",
      "[CV] .................... C=0.1, gamma=1, kernel=linear, total=   0.2s\n",
      "[CV] C=0.1, gamma=1, kernel=linear ...................................\n"
     ]
    },
    {
     "name": "stderr",
     "output_type": "stream",
     "text": [
      "[Parallel(n_jobs=1)]: Done   1 out of   1 | elapsed:    0.3s remaining:    0.0s\n"
     ]
    },
    {
     "name": "stdout",
     "output_type": "stream",
     "text": [
      "[CV] .................... C=0.1, gamma=1, kernel=linear, total=   0.2s\n",
      "[CV] C=0.1, gamma=1, kernel=linear ...................................\n",
      "[CV] .................... C=0.1, gamma=1, kernel=linear, total=   0.2s\n",
      "[CV] C=0.1, gamma=1, kernel=poly .....................................\n",
      "[CV] ...................... C=0.1, gamma=1, kernel=poly, total=   4.5s\n",
      "[CV] C=0.1, gamma=1, kernel=poly .....................................\n",
      "[CV] ...................... C=0.1, gamma=1, kernel=poly, total=   4.7s\n",
      "[CV] C=0.1, gamma=1, kernel=poly .....................................\n",
      "[CV] ...................... C=0.1, gamma=1, kernel=poly, total=   4.0s\n",
      "[CV] C=0.1, gamma=1, kernel=rbf ......................................\n",
      "[CV] ....................... C=0.1, gamma=1, kernel=rbf, total=   1.1s\n",
      "[CV] C=0.1, gamma=1, kernel=rbf ......................................\n",
      "[CV] ....................... C=0.1, gamma=1, kernel=rbf, total=   1.1s\n",
      "[CV] C=0.1, gamma=1, kernel=rbf ......................................\n",
      "[CV] ....................... C=0.1, gamma=1, kernel=rbf, total=   1.1s\n",
      "[CV] C=0.1, gamma=0.1, kernel=linear .................................\n",
      "[CV] .................. C=0.1, gamma=0.1, kernel=linear, total=   0.2s\n",
      "[CV] C=0.1, gamma=0.1, kernel=linear .................................\n",
      "[CV] .................. C=0.1, gamma=0.1, kernel=linear, total=   0.2s\n",
      "[CV] C=0.1, gamma=0.1, kernel=linear .................................\n",
      "[CV] .................. C=0.1, gamma=0.1, kernel=linear, total=   0.2s\n",
      "[CV] C=0.1, gamma=0.1, kernel=poly ...................................\n",
      "[CV] .................... C=0.1, gamma=0.1, kernel=poly, total=   0.3s\n",
      "[CV] C=0.1, gamma=0.1, kernel=poly ...................................\n",
      "[CV] .................... C=0.1, gamma=0.1, kernel=poly, total=   0.2s\n",
      "[CV] C=0.1, gamma=0.1, kernel=poly ...................................\n",
      "[CV] .................... C=0.1, gamma=0.1, kernel=poly, total=   0.3s\n",
      "[CV] C=0.1, gamma=0.1, kernel=rbf ....................................\n",
      "[CV] ..................... C=0.1, gamma=0.1, kernel=rbf, total=   0.5s\n",
      "[CV] C=0.1, gamma=0.1, kernel=rbf ....................................\n",
      "[CV] ..................... C=0.1, gamma=0.1, kernel=rbf, total=   0.5s\n",
      "[CV] C=0.1, gamma=0.1, kernel=rbf ....................................\n",
      "[CV] ..................... C=0.1, gamma=0.1, kernel=rbf, total=   0.5s\n",
      "[CV] C=0.1, gamma=0.01, kernel=linear ................................\n",
      "[CV] ................. C=0.1, gamma=0.01, kernel=linear, total=   0.2s\n",
      "[CV] C=0.1, gamma=0.01, kernel=linear ................................\n",
      "[CV] ................. C=0.1, gamma=0.01, kernel=linear, total=   0.2s\n",
      "[CV] C=0.1, gamma=0.01, kernel=linear ................................\n",
      "[CV] ................. C=0.1, gamma=0.01, kernel=linear, total=   0.2s\n",
      "[CV] C=0.1, gamma=0.01, kernel=poly ..................................\n",
      "[CV] ................... C=0.1, gamma=0.01, kernel=poly, total=   0.4s\n",
      "[CV] C=0.1, gamma=0.01, kernel=poly ..................................\n",
      "[CV] ................... C=0.1, gamma=0.01, kernel=poly, total=   0.4s\n",
      "[CV] C=0.1, gamma=0.01, kernel=poly ..................................\n",
      "[CV] ................... C=0.1, gamma=0.01, kernel=poly, total=   0.4s\n",
      "[CV] C=0.1, gamma=0.01, kernel=rbf ...................................\n",
      "[CV] .................... C=0.1, gamma=0.01, kernel=rbf, total=   0.6s\n",
      "[CV] C=0.1, gamma=0.01, kernel=rbf ...................................\n",
      "[CV] .................... C=0.1, gamma=0.01, kernel=rbf, total=   0.6s\n",
      "[CV] C=0.1, gamma=0.01, kernel=rbf ...................................\n",
      "[CV] .................... C=0.1, gamma=0.01, kernel=rbf, total=   0.6s\n",
      "[CV] C=0.1, gamma=0.001, kernel=linear ...............................\n",
      "[CV] ................ C=0.1, gamma=0.001, kernel=linear, total=   0.2s\n",
      "[CV] C=0.1, gamma=0.001, kernel=linear ...............................\n",
      "[CV] ................ C=0.1, gamma=0.001, kernel=linear, total=   0.2s\n",
      "[CV] C=0.1, gamma=0.001, kernel=linear ...............................\n",
      "[CV] ................ C=0.1, gamma=0.001, kernel=linear, total=   0.2s\n",
      "[CV] C=0.1, gamma=0.001, kernel=poly .................................\n",
      "[CV] .................. C=0.1, gamma=0.001, kernel=poly, total=   0.5s\n",
      "[CV] C=0.1, gamma=0.001, kernel=poly .................................\n",
      "[CV] .................. C=0.1, gamma=0.001, kernel=poly, total=   0.5s\n",
      "[CV] C=0.1, gamma=0.001, kernel=poly .................................\n",
      "[CV] .................. C=0.1, gamma=0.001, kernel=poly, total=   0.5s\n",
      "[CV] C=0.1, gamma=0.001, kernel=rbf ..................................\n",
      "[CV] ................... C=0.1, gamma=0.001, kernel=rbf, total=   0.9s\n",
      "[CV] C=0.1, gamma=0.001, kernel=rbf ..................................\n",
      "[CV] ................... C=0.1, gamma=0.001, kernel=rbf, total=   0.9s\n",
      "[CV] C=0.1, gamma=0.001, kernel=rbf ..................................\n",
      "[CV] ................... C=0.1, gamma=0.001, kernel=rbf, total=   0.9s\n",
      "[CV] C=1, gamma=1, kernel=linear .....................................\n",
      "[CV] ...................... C=1, gamma=1, kernel=linear, total=   0.2s\n",
      "[CV] C=1, gamma=1, kernel=linear .....................................\n",
      "[CV] ...................... C=1, gamma=1, kernel=linear, total=   0.2s\n",
      "[CV] C=1, gamma=1, kernel=linear .....................................\n",
      "[CV] ...................... C=1, gamma=1, kernel=linear, total=   0.3s\n",
      "[CV] C=1, gamma=1, kernel=poly .......................................\n",
      "[CV] ........................ C=1, gamma=1, kernel=poly, total=  28.5s\n",
      "[CV] C=1, gamma=1, kernel=poly .......................................\n",
      "[CV] ........................ C=1, gamma=1, kernel=poly, total=  35.7s\n",
      "[CV] C=1, gamma=1, kernel=poly .......................................\n",
      "[CV] ........................ C=1, gamma=1, kernel=poly, total=  27.3s\n",
      "[CV] C=1, gamma=1, kernel=rbf ........................................\n",
      "[CV] ......................... C=1, gamma=1, kernel=rbf, total=   1.1s\n",
      "[CV] C=1, gamma=1, kernel=rbf ........................................\n",
      "[CV] ......................... C=1, gamma=1, kernel=rbf, total=   1.1s\n",
      "[CV] C=1, gamma=1, kernel=rbf ........................................\n",
      "[CV] ......................... C=1, gamma=1, kernel=rbf, total=   1.1s\n",
      "[CV] C=1, gamma=0.1, kernel=linear ...................................\n",
      "[CV] .................... C=1, gamma=0.1, kernel=linear, total=   0.2s\n",
      "[CV] C=1, gamma=0.1, kernel=linear ...................................\n",
      "[CV] .................... C=1, gamma=0.1, kernel=linear, total=   0.2s\n",
      "[CV] C=1, gamma=0.1, kernel=linear ...................................\n",
      "[CV] .................... C=1, gamma=0.1, kernel=linear, total=   0.3s\n",
      "[CV] C=1, gamma=0.1, kernel=poly .....................................\n",
      "[CV] ...................... C=1, gamma=0.1, kernel=poly, total=   0.4s\n",
      "[CV] C=1, gamma=0.1, kernel=poly .....................................\n",
      "[CV] ...................... C=1, gamma=0.1, kernel=poly, total=   0.4s\n",
      "[CV] C=1, gamma=0.1, kernel=poly .....................................\n",
      "[CV] ...................... C=1, gamma=0.1, kernel=poly, total=   0.4s\n",
      "[CV] C=1, gamma=0.1, kernel=rbf ......................................\n",
      "[CV] ....................... C=1, gamma=0.1, kernel=rbf, total=   0.5s\n",
      "[CV] C=1, gamma=0.1, kernel=rbf ......................................\n",
      "[CV] ....................... C=1, gamma=0.1, kernel=rbf, total=   0.5s\n",
      "[CV] C=1, gamma=0.1, kernel=rbf ......................................\n",
      "[CV] ....................... C=1, gamma=0.1, kernel=rbf, total=   0.6s\n",
      "[CV] C=1, gamma=0.01, kernel=linear ..................................\n",
      "[CV] ................... C=1, gamma=0.01, kernel=linear, total=   0.3s\n",
      "[CV] C=1, gamma=0.01, kernel=linear ..................................\n",
      "[CV] ................... C=1, gamma=0.01, kernel=linear, total=   0.2s\n",
      "[CV] C=1, gamma=0.01, kernel=linear ..................................\n",
      "[CV] ................... C=1, gamma=0.01, kernel=linear, total=   0.2s\n",
      "[CV] C=1, gamma=0.01, kernel=poly ....................................\n",
      "[CV] ..................... C=1, gamma=0.01, kernel=poly, total=   0.3s\n",
      "[CV] C=1, gamma=0.01, kernel=poly ....................................\n",
      "[CV] ..................... C=1, gamma=0.01, kernel=poly, total=   0.3s\n",
      "[CV] C=1, gamma=0.01, kernel=poly ....................................\n"
     ]
    },
    {
     "name": "stdout",
     "output_type": "stream",
     "text": [
      "[CV] ..................... C=1, gamma=0.01, kernel=poly, total=   0.3s\n",
      "[CV] C=1, gamma=0.01, kernel=rbf .....................................\n",
      "[CV] ...................... C=1, gamma=0.01, kernel=rbf, total=   0.5s\n",
      "[CV] C=1, gamma=0.01, kernel=rbf .....................................\n",
      "[CV] ...................... C=1, gamma=0.01, kernel=rbf, total=   0.4s\n",
      "[CV] C=1, gamma=0.01, kernel=rbf .....................................\n",
      "[CV] ...................... C=1, gamma=0.01, kernel=rbf, total=   0.4s\n",
      "[CV] C=1, gamma=0.001, kernel=linear .................................\n",
      "[CV] .................. C=1, gamma=0.001, kernel=linear, total=   0.2s\n",
      "[CV] C=1, gamma=0.001, kernel=linear .................................\n",
      "[CV] .................. C=1, gamma=0.001, kernel=linear, total=   0.2s\n",
      "[CV] C=1, gamma=0.001, kernel=linear .................................\n",
      "[CV] .................. C=1, gamma=0.001, kernel=linear, total=   0.3s\n",
      "[CV] C=1, gamma=0.001, kernel=poly ...................................\n",
      "[CV] .................... C=1, gamma=0.001, kernel=poly, total=   0.5s\n",
      "[CV] C=1, gamma=0.001, kernel=poly ...................................\n",
      "[CV] .................... C=1, gamma=0.001, kernel=poly, total=   0.5s\n",
      "[CV] C=1, gamma=0.001, kernel=poly ...................................\n",
      "[CV] .................... C=1, gamma=0.001, kernel=poly, total=   0.5s\n",
      "[CV] C=1, gamma=0.001, kernel=rbf ....................................\n",
      "[CV] ..................... C=1, gamma=0.001, kernel=rbf, total=   0.6s\n",
      "[CV] C=1, gamma=0.001, kernel=rbf ....................................\n",
      "[CV] ..................... C=1, gamma=0.001, kernel=rbf, total=   0.6s\n",
      "[CV] C=1, gamma=0.001, kernel=rbf ....................................\n",
      "[CV] ..................... C=1, gamma=0.001, kernel=rbf, total=   0.6s\n",
      "[CV] C=10, gamma=1, kernel=linear ....................................\n",
      "[CV] ..................... C=10, gamma=1, kernel=linear, total=   0.6s\n",
      "[CV] C=10, gamma=1, kernel=linear ....................................\n",
      "[CV] ..................... C=10, gamma=1, kernel=linear, total=   0.6s\n",
      "[CV] C=10, gamma=1, kernel=linear ....................................\n",
      "[CV] ..................... C=10, gamma=1, kernel=linear, total=   0.7s\n",
      "[CV] C=10, gamma=1, kernel=poly ......................................\n",
      "[CV] ....................... C=10, gamma=1, kernel=poly, total= 5.5min\n",
      "[CV] C=10, gamma=1, kernel=poly ......................................\n",
      "[CV] ....................... C=10, gamma=1, kernel=poly, total= 4.6min\n",
      "[CV] C=10, gamma=1, kernel=poly ......................................\n",
      "[CV] ....................... C=10, gamma=1, kernel=poly, total= 4.4min\n",
      "[CV] C=10, gamma=1, kernel=rbf .......................................\n",
      "[CV] ........................ C=10, gamma=1, kernel=rbf, total=   1.1s\n",
      "[CV] C=10, gamma=1, kernel=rbf .......................................\n",
      "[CV] ........................ C=10, gamma=1, kernel=rbf, total=   1.1s\n",
      "[CV] C=10, gamma=1, kernel=rbf .......................................\n",
      "[CV] ........................ C=10, gamma=1, kernel=rbf, total=   1.3s\n",
      "[CV] C=10, gamma=0.1, kernel=linear ..................................\n",
      "[CV] ................... C=10, gamma=0.1, kernel=linear, total=   0.8s\n",
      "[CV] C=10, gamma=0.1, kernel=linear ..................................\n",
      "[CV] ................... C=10, gamma=0.1, kernel=linear, total=   0.6s\n",
      "[CV] C=10, gamma=0.1, kernel=linear ..................................\n",
      "[CV] ................... C=10, gamma=0.1, kernel=linear, total=   0.8s\n",
      "[CV] C=10, gamma=0.1, kernel=poly ....................................\n",
      "[CV] ..................... C=10, gamma=0.1, kernel=poly, total=   1.0s\n",
      "[CV] C=10, gamma=0.1, kernel=poly ....................................\n",
      "[CV] ..................... C=10, gamma=0.1, kernel=poly, total=   1.0s\n",
      "[CV] C=10, gamma=0.1, kernel=poly ....................................\n",
      "[CV] ..................... C=10, gamma=0.1, kernel=poly, total=   1.1s\n",
      "[CV] C=10, gamma=0.1, kernel=rbf .....................................\n",
      "[CV] ...................... C=10, gamma=0.1, kernel=rbf, total=   0.5s\n",
      "[CV] C=10, gamma=0.1, kernel=rbf .....................................\n",
      "[CV] ...................... C=10, gamma=0.1, kernel=rbf, total=   0.5s\n",
      "[CV] C=10, gamma=0.1, kernel=rbf .....................................\n",
      "[CV] ...................... C=10, gamma=0.1, kernel=rbf, total=   0.5s\n",
      "[CV] C=10, gamma=0.01, kernel=linear .................................\n",
      "[CV] .................. C=10, gamma=0.01, kernel=linear, total=   0.7s\n",
      "[CV] C=10, gamma=0.01, kernel=linear .................................\n",
      "[CV] .................. C=10, gamma=0.01, kernel=linear, total=   0.6s\n",
      "[CV] C=10, gamma=0.01, kernel=linear .................................\n",
      "[CV] .................. C=10, gamma=0.01, kernel=linear, total=   0.8s\n",
      "[CV] C=10, gamma=0.01, kernel=poly ...................................\n",
      "[CV] .................... C=10, gamma=0.01, kernel=poly, total=   0.3s\n",
      "[CV] C=10, gamma=0.01, kernel=poly ...................................\n",
      "[CV] .................... C=10, gamma=0.01, kernel=poly, total=   0.3s\n",
      "[CV] C=10, gamma=0.01, kernel=poly ...................................\n",
      "[CV] .................... C=10, gamma=0.01, kernel=poly, total=   0.3s\n",
      "[CV] C=10, gamma=0.01, kernel=rbf ....................................\n",
      "[CV] ..................... C=10, gamma=0.01, kernel=rbf, total=   0.4s\n",
      "[CV] C=10, gamma=0.01, kernel=rbf ....................................\n",
      "[CV] ..................... C=10, gamma=0.01, kernel=rbf, total=   0.4s\n",
      "[CV] C=10, gamma=0.01, kernel=rbf ....................................\n",
      "[CV] ..................... C=10, gamma=0.01, kernel=rbf, total=   0.4s\n",
      "[CV] C=10, gamma=0.001, kernel=linear ................................\n",
      "[CV] ................. C=10, gamma=0.001, kernel=linear, total=   0.7s\n",
      "[CV] C=10, gamma=0.001, kernel=linear ................................\n",
      "[CV] ................. C=10, gamma=0.001, kernel=linear, total=   0.6s\n",
      "[CV] C=10, gamma=0.001, kernel=linear ................................\n",
      "[CV] ................. C=10, gamma=0.001, kernel=linear, total=   0.7s\n",
      "[CV] C=10, gamma=0.001, kernel=poly ..................................\n",
      "[CV] ................... C=10, gamma=0.001, kernel=poly, total=   0.5s\n",
      "[CV] C=10, gamma=0.001, kernel=poly ..................................\n",
      "[CV] ................... C=10, gamma=0.001, kernel=poly, total=   0.5s\n",
      "[CV] C=10, gamma=0.001, kernel=poly ..................................\n",
      "[CV] ................... C=10, gamma=0.001, kernel=poly, total=   0.5s\n",
      "[CV] C=10, gamma=0.001, kernel=rbf ...................................\n",
      "[CV] .................... C=10, gamma=0.001, kernel=rbf, total=   0.5s\n",
      "[CV] C=10, gamma=0.001, kernel=rbf ...................................\n",
      "[CV] .................... C=10, gamma=0.001, kernel=rbf, total=   0.5s\n",
      "[CV] C=10, gamma=0.001, kernel=rbf ...................................\n",
      "[CV] .................... C=10, gamma=0.001, kernel=rbf, total=   0.5s\n",
      "[CV] C=100, gamma=1, kernel=linear ...................................\n",
      "[CV] .................... C=100, gamma=1, kernel=linear, total=   3.4s\n",
      "[CV] C=100, gamma=1, kernel=linear ...................................\n",
      "[CV] .................... C=100, gamma=1, kernel=linear, total=   2.9s\n",
      "[CV] C=100, gamma=1, kernel=linear ...................................\n",
      "[CV] .................... C=100, gamma=1, kernel=linear, total=   4.1s\n",
      "[CV] C=100, gamma=1, kernel=poly .....................................\n",
      "[CV] ...................... C=100, gamma=1, kernel=poly, total=44.0min\n",
      "[CV] C=100, gamma=1, kernel=poly .....................................\n",
      "[CV] ...................... C=100, gamma=1, kernel=poly, total=42.0min\n",
      "[CV] C=100, gamma=1, kernel=poly .....................................\n",
      "[CV] ...................... C=100, gamma=1, kernel=poly, total=44.4min\n",
      "[CV] C=100, gamma=1, kernel=rbf ......................................\n",
      "[CV] ....................... C=100, gamma=1, kernel=rbf, total=   1.5s\n",
      "[CV] C=100, gamma=1, kernel=rbf ......................................\n",
      "[CV] ....................... C=100, gamma=1, kernel=rbf, total=   1.6s\n",
      "[CV] C=100, gamma=1, kernel=rbf ......................................\n",
      "[CV] ....................... C=100, gamma=1, kernel=rbf, total=   1.5s\n",
      "[CV] C=100, gamma=0.1, kernel=linear .................................\n"
     ]
    },
    {
     "name": "stdout",
     "output_type": "stream",
     "text": [
      "[CV] .................. C=100, gamma=0.1, kernel=linear, total=   3.7s\n",
      "[CV] C=100, gamma=0.1, kernel=linear .................................\n",
      "[CV] .................. C=100, gamma=0.1, kernel=linear, total=   3.0s\n",
      "[CV] C=100, gamma=0.1, kernel=linear .................................\n",
      "[CV] .................. C=100, gamma=0.1, kernel=linear, total=   4.1s\n",
      "[CV] C=100, gamma=0.1, kernel=poly ...................................\n",
      "[CV] .................... C=100, gamma=0.1, kernel=poly, total=   4.4s\n",
      "[CV] C=100, gamma=0.1, kernel=poly ...................................\n",
      "[CV] .................... C=100, gamma=0.1, kernel=poly, total=   4.5s\n",
      "[CV] C=100, gamma=0.1, kernel=poly ...................................\n",
      "[CV] .................... C=100, gamma=0.1, kernel=poly, total=   4.7s\n",
      "[CV] C=100, gamma=0.1, kernel=rbf ....................................\n",
      "[CV] ..................... C=100, gamma=0.1, kernel=rbf, total=   1.0s\n",
      "[CV] C=100, gamma=0.1, kernel=rbf ....................................\n",
      "[CV] ..................... C=100, gamma=0.1, kernel=rbf, total=   1.0s\n",
      "[CV] C=100, gamma=0.1, kernel=rbf ....................................\n",
      "[CV] ..................... C=100, gamma=0.1, kernel=rbf, total=   1.0s\n",
      "[CV] C=100, gamma=0.01, kernel=linear ................................\n",
      "[CV] ................. C=100, gamma=0.01, kernel=linear, total=   3.6s\n",
      "[CV] C=100, gamma=0.01, kernel=linear ................................\n",
      "[CV] ................. C=100, gamma=0.01, kernel=linear, total=   3.2s\n",
      "[CV] C=100, gamma=0.01, kernel=linear ................................\n",
      "[CV] ................. C=100, gamma=0.01, kernel=linear, total=   4.0s\n",
      "[CV] C=100, gamma=0.01, kernel=poly ..................................\n",
      "[CV] ................... C=100, gamma=0.01, kernel=poly, total=   0.3s\n",
      "[CV] C=100, gamma=0.01, kernel=poly ..................................\n",
      "[CV] ................... C=100, gamma=0.01, kernel=poly, total=   0.3s\n",
      "[CV] C=100, gamma=0.01, kernel=poly ..................................\n",
      "[CV] ................... C=100, gamma=0.01, kernel=poly, total=   0.3s\n",
      "[CV] C=100, gamma=0.01, kernel=rbf ...................................\n",
      "[CV] .................... C=100, gamma=0.01, kernel=rbf, total=   0.5s\n",
      "[CV] C=100, gamma=0.01, kernel=rbf ...................................\n",
      "[CV] .................... C=100, gamma=0.01, kernel=rbf, total=   0.5s\n",
      "[CV] C=100, gamma=0.01, kernel=rbf ...................................\n",
      "[CV] .................... C=100, gamma=0.01, kernel=rbf, total=   0.5s\n",
      "[CV] C=100, gamma=0.001, kernel=linear ...............................\n",
      "[CV] ................ C=100, gamma=0.001, kernel=linear, total=   3.6s\n",
      "[CV] C=100, gamma=0.001, kernel=linear ...............................\n",
      "[CV] ................ C=100, gamma=0.001, kernel=linear, total=   3.3s\n",
      "[CV] C=100, gamma=0.001, kernel=linear ...............................\n",
      "[CV] ................ C=100, gamma=0.001, kernel=linear, total=   5.2s\n",
      "[CV] C=100, gamma=0.001, kernel=poly .................................\n",
      "[CV] .................. C=100, gamma=0.001, kernel=poly, total=   0.6s\n",
      "[CV] C=100, gamma=0.001, kernel=poly .................................\n",
      "[CV] .................. C=100, gamma=0.001, kernel=poly, total=   0.6s\n",
      "[CV] C=100, gamma=0.001, kernel=poly .................................\n",
      "[CV] .................. C=100, gamma=0.001, kernel=poly, total=   0.6s\n",
      "[CV] C=100, gamma=0.001, kernel=rbf ..................................\n",
      "[CV] ................... C=100, gamma=0.001, kernel=rbf, total=   0.6s\n",
      "[CV] C=100, gamma=0.001, kernel=rbf ..................................\n",
      "[CV] ................... C=100, gamma=0.001, kernel=rbf, total=   0.5s\n",
      "[CV] C=100, gamma=0.001, kernel=rbf ..................................\n",
      "[CV] ................... C=100, gamma=0.001, kernel=rbf, total=   0.5s\n"
     ]
    },
    {
     "name": "stderr",
     "output_type": "stream",
     "text": [
      "[Parallel(n_jobs=1)]: Done 144 out of 144 | elapsed: 149.1min finished\n"
     ]
    },
    {
     "data": {
      "text/plain": [
       "GridSearchCV(cv=None, error_score='raise',\n",
       "       estimator=SVC(C=1.0, cache_size=200, class_weight=None, coef0=0.0,\n",
       "  decision_function_shape='ovr', degree=3, gamma='auto', kernel='rbf',\n",
       "  max_iter=-1, probability=False, random_state=None, shrinking=True,\n",
       "  tol=0.001, verbose=False),\n",
       "       fit_params=None, iid=True, n_jobs=1,\n",
       "       param_grid={'C': [0.1, 1, 10, 100], 'gamma': [1, 0.1, 0.01, 0.001], 'kernel': ['linear', 'poly', 'rbf']},\n",
       "       pre_dispatch='2*n_jobs', refit=True, return_train_score=True,\n",
       "       scoring=None, verbose=2)"
      ]
     },
     "execution_count": 60,
     "metadata": {},
     "output_type": "execute_result"
    }
   ],
   "source": [
    "grid.fit(x_train,y_train)"
   ]
  },
  {
   "cell_type": "code",
   "execution_count": 61,
   "metadata": {},
   "outputs": [
    {
     "data": {
      "text/plain": [
       "GridSearchCV(cv=None, error_score='raise',\n",
       "       estimator=SVC(C=1.0, cache_size=200, class_weight=None, coef0=0.0,\n",
       "  decision_function_shape='ovr', degree=3, gamma='auto', kernel='rbf',\n",
       "  max_iter=-1, probability=False, random_state=None, shrinking=True,\n",
       "  tol=0.001, verbose=False),\n",
       "       fit_params=None, iid=True, n_jobs=1,\n",
       "       param_grid={'C': [0.1, 1, 10, 100], 'gamma': [1, 0.1, 0.01, 0.001], 'kernel': ['linear', 'poly', 'rbf']},\n",
       "       pre_dispatch='2*n_jobs', refit=True, return_train_score=True,\n",
       "       scoring=None, verbose=2)"
      ]
     },
     "execution_count": 61,
     "metadata": {},
     "output_type": "execute_result"
    }
   ],
   "source": [
    "grid"
   ]
  },
  {
   "cell_type": "code",
   "execution_count": 62,
   "metadata": {},
   "outputs": [
    {
     "data": {
      "text/plain": [
       "{'C': 100, 'gamma': 0.01, 'kernel': 'rbf'}"
      ]
     },
     "execution_count": 62,
     "metadata": {},
     "output_type": "execute_result"
    }
   ],
   "source": [
    "grid.best_params_"
   ]
  },
  {
   "cell_type": "code",
   "execution_count": 63,
   "metadata": {},
   "outputs": [
    {
     "data": {
      "text/plain": [
       "SVC(C=100, cache_size=200, class_weight=None, coef0=0.0,\n",
       "  decision_function_shape='ovr', degree=3, gamma=0.01, kernel='rbf',\n",
       "  max_iter=-1, probability=False, random_state=None, shrinking=True,\n",
       "  tol=0.001, verbose=False)"
      ]
     },
     "execution_count": 63,
     "metadata": {},
     "output_type": "execute_result"
    }
   ],
   "source": [
    "grid.best_estimator_"
   ]
  },
  {
   "cell_type": "code",
   "execution_count": 64,
   "metadata": {
    "collapsed": true
   },
   "outputs": [],
   "source": [
    "grid_predictions = grid.predict(x_test)"
   ]
  },
  {
   "cell_type": "code",
   "execution_count": 65,
   "metadata": {},
   "outputs": [
    {
     "name": "stdout",
     "output_type": "stream",
     "text": [
      "[[4014   28]\n",
      " [  63  370]]\n"
     ]
    }
   ],
   "source": [
    "print(confusion_matrix(y_test,grid_predictions))"
   ]
  },
  {
   "cell_type": "code",
   "execution_count": 66,
   "metadata": {
    "collapsed": true
   },
   "outputs": [],
   "source": [
    "tn, fp, fn, tp = confusion_matrix(y_test,grid_predictions).ravel()"
   ]
  },
  {
   "cell_type": "code",
   "execution_count": 67,
   "metadata": {},
   "outputs": [
    {
     "name": "stdout",
     "output_type": "stream",
     "text": [
      "28 63\n"
     ]
    }
   ],
   "source": [
    "print(fp,fn)"
   ]
  },
  {
   "cell_type": "code",
   "execution_count": 68,
   "metadata": {},
   "outputs": [
    {
     "name": "stdout",
     "output_type": "stream",
     "text": [
      "0.979664804469\n"
     ]
    }
   ],
   "source": [
    "print(accuracy_score(y_test,grid_predictions))"
   ]
  },
  {
   "cell_type": "code",
   "execution_count": null,
   "metadata": {
    "collapsed": true
   },
   "outputs": [],
   "source": []
  }
 ],
 "metadata": {
  "kernelspec": {
   "display_name": "Python 3",
   "language": "python",
   "name": "python3"
  },
  "language_info": {
   "codemirror_mode": {
    "name": "ipython",
    "version": 3
   },
   "file_extension": ".py",
   "mimetype": "text/x-python",
   "name": "python",
   "nbconvert_exporter": "python",
   "pygments_lexer": "ipython3",
   "version": "3.6.1"
  }
 },
 "nbformat": 4,
 "nbformat_minor": 2
}
